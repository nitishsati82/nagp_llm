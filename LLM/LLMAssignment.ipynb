{
  "cells": [
    {
      "cell_type": "markdown",
      "metadata": {
        "id": "0QNVa9EXXCl9"
      },
      "source": [
        "### [Extract Text from *PDFs](https://)*"
      ]
    },
    {
      "cell_type": "code",
      "execution_count": 15,
      "metadata": {
        "colab": {
          "base_uri": "https://localhost:8080/"
        },
        "id": "tgJFW6ZErUNw",
        "outputId": "50056201-c798-47ea-8c68-90ca36d154d5"
      },
      "outputs": [
        {
          "name": "stdout",
          "output_type": "stream",
          "text": [
            "Requirement already satisfied: PyMuPDF in /usr/local/lib/python3.10/dist-packages (1.24.7)\n",
            "Requirement already satisfied: sentence-transformers in /usr/local/lib/python3.10/dist-packages (3.0.1)\n",
            "Requirement already satisfied: pinecone-client in /usr/local/lib/python3.10/dist-packages (4.1.2)\n",
            "Requirement already satisfied: PyMuPDFb==1.24.6 in /usr/local/lib/python3.10/dist-packages (from PyMuPDF) (1.24.6)\n",
            "Requirement already satisfied: transformers<5.0.0,>=4.34.0 in /usr/local/lib/python3.10/dist-packages (from sentence-transformers) (4.42.4)\n",
            "Requirement already satisfied: tqdm in /usr/local/lib/python3.10/dist-packages (from sentence-transformers) (4.66.4)\n",
            "Requirement already satisfied: torch>=1.11.0 in /usr/local/lib/python3.10/dist-packages (from sentence-transformers) (2.3.1+cu121)\n",
            "Requirement already satisfied: numpy in /usr/local/lib/python3.10/dist-packages (from sentence-transformers) (1.25.2)\n",
            "Requirement already satisfied: scikit-learn in /usr/local/lib/python3.10/dist-packages (from sentence-transformers) (1.2.2)\n",
            "Requirement already satisfied: scipy in /usr/local/lib/python3.10/dist-packages (from sentence-transformers) (1.11.4)\n",
            "Requirement already satisfied: huggingface-hub>=0.15.1 in /usr/local/lib/python3.10/dist-packages (from sentence-transformers) (0.23.4)\n",
            "Requirement already satisfied: Pillow in /usr/local/lib/python3.10/dist-packages (from sentence-transformers) (9.4.0)\n",
            "Requirement already satisfied: certifi>=2019.11.17 in /usr/local/lib/python3.10/dist-packages (from pinecone-client) (2024.7.4)\n",
            "Requirement already satisfied: pinecone-plugin-interface<0.0.8,>=0.0.7 in /usr/local/lib/python3.10/dist-packages (from pinecone-client) (0.0.7)\n",
            "Requirement already satisfied: typing-extensions>=3.7.4 in /usr/local/lib/python3.10/dist-packages (from pinecone-client) (4.12.2)\n",
            "Requirement already satisfied: urllib3>=1.26.0 in /usr/local/lib/python3.10/dist-packages (from pinecone-client) (2.0.7)\n",
            "Requirement already satisfied: filelock in /usr/local/lib/python3.10/dist-packages (from huggingface-hub>=0.15.1->sentence-transformers) (3.15.4)\n",
            "Requirement already satisfied: fsspec>=2023.5.0 in /usr/local/lib/python3.10/dist-packages (from huggingface-hub>=0.15.1->sentence-transformers) (2023.6.0)\n",
            "Requirement already satisfied: packaging>=20.9 in /usr/local/lib/python3.10/dist-packages (from huggingface-hub>=0.15.1->sentence-transformers) (24.1)\n",
            "Requirement already satisfied: pyyaml>=5.1 in /usr/local/lib/python3.10/dist-packages (from huggingface-hub>=0.15.1->sentence-transformers) (6.0.1)\n",
            "Requirement already satisfied: requests in /usr/local/lib/python3.10/dist-packages (from huggingface-hub>=0.15.1->sentence-transformers) (2.31.0)\n",
            "Requirement already satisfied: sympy in /usr/local/lib/python3.10/dist-packages (from torch>=1.11.0->sentence-transformers) (1.13.0)\n",
            "Requirement already satisfied: networkx in /usr/local/lib/python3.10/dist-packages (from torch>=1.11.0->sentence-transformers) (3.3)\n",
            "Requirement already satisfied: jinja2 in /usr/local/lib/python3.10/dist-packages (from torch>=1.11.0->sentence-transformers) (3.1.4)\n",
            "Requirement already satisfied: nvidia-cuda-nvrtc-cu12==12.1.105 in /usr/local/lib/python3.10/dist-packages (from torch>=1.11.0->sentence-transformers) (12.1.105)\n",
            "Requirement already satisfied: nvidia-cuda-runtime-cu12==12.1.105 in /usr/local/lib/python3.10/dist-packages (from torch>=1.11.0->sentence-transformers) (12.1.105)\n",
            "Requirement already satisfied: nvidia-cuda-cupti-cu12==12.1.105 in /usr/local/lib/python3.10/dist-packages (from torch>=1.11.0->sentence-transformers) (12.1.105)\n",
            "Requirement already satisfied: nvidia-cudnn-cu12==8.9.2.26 in /usr/local/lib/python3.10/dist-packages (from torch>=1.11.0->sentence-transformers) (8.9.2.26)\n",
            "Requirement already satisfied: nvidia-cublas-cu12==12.1.3.1 in /usr/local/lib/python3.10/dist-packages (from torch>=1.11.0->sentence-transformers) (12.1.3.1)\n",
            "Requirement already satisfied: nvidia-cufft-cu12==11.0.2.54 in /usr/local/lib/python3.10/dist-packages (from torch>=1.11.0->sentence-transformers) (11.0.2.54)\n",
            "Requirement already satisfied: nvidia-curand-cu12==10.3.2.106 in /usr/local/lib/python3.10/dist-packages (from torch>=1.11.0->sentence-transformers) (10.3.2.106)\n",
            "Requirement already satisfied: nvidia-cusolver-cu12==11.4.5.107 in /usr/local/lib/python3.10/dist-packages (from torch>=1.11.0->sentence-transformers) (11.4.5.107)\n",
            "Requirement already satisfied: nvidia-cusparse-cu12==12.1.0.106 in /usr/local/lib/python3.10/dist-packages (from torch>=1.11.0->sentence-transformers) (12.1.0.106)\n",
            "Requirement already satisfied: nvidia-nccl-cu12==2.20.5 in /usr/local/lib/python3.10/dist-packages (from torch>=1.11.0->sentence-transformers) (2.20.5)\n",
            "Requirement already satisfied: nvidia-nvtx-cu12==12.1.105 in /usr/local/lib/python3.10/dist-packages (from torch>=1.11.0->sentence-transformers) (12.1.105)\n",
            "Requirement already satisfied: triton==2.3.1 in /usr/local/lib/python3.10/dist-packages (from torch>=1.11.0->sentence-transformers) (2.3.1)\n",
            "Requirement already satisfied: nvidia-nvjitlink-cu12 in /usr/local/lib/python3.10/dist-packages (from nvidia-cusolver-cu12==11.4.5.107->torch>=1.11.0->sentence-transformers) (12.5.82)\n",
            "Requirement already satisfied: regex!=2019.12.17 in /usr/local/lib/python3.10/dist-packages (from transformers<5.0.0,>=4.34.0->sentence-transformers) (2024.5.15)\n",
            "Requirement already satisfied: safetensors>=0.4.1 in /usr/local/lib/python3.10/dist-packages (from transformers<5.0.0,>=4.34.0->sentence-transformers) (0.4.3)\n",
            "Requirement already satisfied: tokenizers<0.20,>=0.19 in /usr/local/lib/python3.10/dist-packages (from transformers<5.0.0,>=4.34.0->sentence-transformers) (0.19.1)\n",
            "Requirement already satisfied: joblib>=1.1.1 in /usr/local/lib/python3.10/dist-packages (from scikit-learn->sentence-transformers) (1.4.2)\n",
            "Requirement already satisfied: threadpoolctl>=2.0.0 in /usr/local/lib/python3.10/dist-packages (from scikit-learn->sentence-transformers) (3.5.0)\n",
            "Requirement already satisfied: MarkupSafe>=2.0 in /usr/local/lib/python3.10/dist-packages (from jinja2->torch>=1.11.0->sentence-transformers) (2.1.5)\n",
            "Requirement already satisfied: charset-normalizer<4,>=2 in /usr/local/lib/python3.10/dist-packages (from requests->huggingface-hub>=0.15.1->sentence-transformers) (3.3.2)\n",
            "Requirement already satisfied: idna<4,>=2.5 in /usr/local/lib/python3.10/dist-packages (from requests->huggingface-hub>=0.15.1->sentence-transformers) (3.7)\n",
            "Requirement already satisfied: mpmath<1.4,>=1.1.0 in /usr/local/lib/python3.10/dist-packages (from sympy->torch>=1.11.0->sentence-transformers) (1.3.0)\n",
            "Requirement already satisfied: transformers in /usr/local/lib/python3.10/dist-packages (4.42.4)\n",
            "Requirement already satisfied: filelock in /usr/local/lib/python3.10/dist-packages (from transformers) (3.15.4)\n",
            "Requirement already satisfied: huggingface-hub<1.0,>=0.23.2 in /usr/local/lib/python3.10/dist-packages (from transformers) (0.23.4)\n",
            "Requirement already satisfied: numpy<2.0,>=1.17 in /usr/local/lib/python3.10/dist-packages (from transformers) (1.25.2)\n",
            "Requirement already satisfied: packaging>=20.0 in /usr/local/lib/python3.10/dist-packages (from transformers) (24.1)\n",
            "Requirement already satisfied: pyyaml>=5.1 in /usr/local/lib/python3.10/dist-packages (from transformers) (6.0.1)\n",
            "Requirement already satisfied: regex!=2019.12.17 in /usr/local/lib/python3.10/dist-packages (from transformers) (2024.5.15)\n",
            "Requirement already satisfied: requests in /usr/local/lib/python3.10/dist-packages (from transformers) (2.31.0)\n",
            "Requirement already satisfied: safetensors>=0.4.1 in /usr/local/lib/python3.10/dist-packages (from transformers) (0.4.3)\n",
            "Requirement already satisfied: tokenizers<0.20,>=0.19 in /usr/local/lib/python3.10/dist-packages (from transformers) (0.19.1)\n",
            "Requirement already satisfied: tqdm>=4.27 in /usr/local/lib/python3.10/dist-packages (from transformers) (4.66.4)\n",
            "Requirement already satisfied: fsspec>=2023.5.0 in /usr/local/lib/python3.10/dist-packages (from huggingface-hub<1.0,>=0.23.2->transformers) (2023.6.0)\n",
            "Requirement already satisfied: typing-extensions>=3.7.4.3 in /usr/local/lib/python3.10/dist-packages (from huggingface-hub<1.0,>=0.23.2->transformers) (4.12.2)\n",
            "Requirement already satisfied: charset-normalizer<4,>=2 in /usr/local/lib/python3.10/dist-packages (from requests->transformers) (3.3.2)\n",
            "Requirement already satisfied: idna<4,>=2.5 in /usr/local/lib/python3.10/dist-packages (from requests->transformers) (3.7)\n",
            "Requirement already satisfied: urllib3<3,>=1.21.1 in /usr/local/lib/python3.10/dist-packages (from requests->transformers) (2.0.7)\n",
            "Requirement already satisfied: certifi>=2017.4.17 in /usr/local/lib/python3.10/dist-packages (from requests->transformers) (2024.7.4)\n"
          ]
        }
      ],
      "source": [
        "# @title Default title text\n",
        "# Install necessary libraries\n",
        "!pip install PyMuPDF sentence-transformers pinecone-client\n",
        "!pip install transformers"
      ]
    },
    {
      "cell_type": "markdown",
      "metadata": {
        "id": "S7K74DQDmcOi"
      },
      "source": [
        "### Maintaining User Context"
      ]
    },
    {
      "cell_type": "code",
      "execution_count": 77,
      "metadata": {
        "id": "c6hRieSamVmc"
      },
      "outputs": [],
      "source": [
        "# Initialize query history list\n",
        "query_history = []\n",
        "def add_to_history(original_query, refined_query):\n",
        "    global query_history\n",
        "    if len(query_history) >= 5:\n",
        "        query_history.pop(0)  # Remove the oldest query\n",
        "    query_history.append((original_query, refined_query))\n",
        "\n",
        "def get_context():\n",
        "    global query_history\n",
        "    context = \"Previous queries and their refined versions:\\n\"\n",
        "    for i, (original_query, refined_query) in enumerate(query_history):\n",
        "        context += f\"Q{i+1}: {original_query}\\nRefined Q{i+1}: {refined_query}\\n\"\n",
        "    return context"
      ]
    },
    {
      "cell_type": "markdown",
      "metadata": {
        "id": "KDfSZT-6UEuZ"
      },
      "source": [
        "### Helper functions"
      ]
    },
    {
      "cell_type": "code",
      "execution_count": 79,
      "metadata": {
        "id": "eAL2ApKWT_8I"
      },
      "outputs": [],
      "source": [
        "from transformers import GPT2Tokenizer, GPT2LMHeadModel\n",
        "import numpy as np\n",
        "\n",
        "# Load GPT-2 model and tokenizer\n",
        "tokenizer = GPT2Tokenizer.from_pretrained(\"gpt2\")\n",
        "gpt_model = GPT2LMHeadModel.from_pretrained(\"gpt2\")\n",
        "\n",
        "### extract text from pdf\n",
        "def extract_text_from_pdf(pdf_path):\n",
        "    doc = fitz.open(pdf_path)\n",
        "    text = \"\"\n",
        "    for page_num in range(len(doc)):\n",
        "        page = doc.load_page(page_num)\n",
        "        text += page.get_text()\n",
        "    doc.close()\n",
        "    return text\n",
        "\n",
        "# Text into segments\n",
        "def chunk_text_by_sentence(text, max_chunk_size=1000):\n",
        "    chunks = []\n",
        "    current_chunk = \"\"\n",
        "    for i in range(0, len(text), max_chunk_size):\n",
        "        chunks.append(text[i:i + max_chunk_size])\n",
        "    return chunks\n",
        "\n",
        "### Generate Embedding\n",
        "def generate_embeddings(chunks, batch_size=32):\n",
        "    embeddings = []\n",
        "    for i in range(0, len(chunks), batch_size):\n",
        "        batch = chunks[i:i+batch_size]\n",
        "        batch_embeddings = model.encode(batch)\n",
        "        embeddings.extend(batch_embeddings)\n",
        "    return np.array(embeddings)\n",
        "\n",
        "### Query pinecone\n",
        "def query_pinecone(query, top_k=5, namespace=None):\n",
        "    query_embedding = model.encode([query]).tolist()[0]\n",
        "    result = index.query(\n",
        "        vector=query_embedding,\n",
        "        top_k=top_k,\n",
        "        namespace=namespace,\n",
        "        include_values=True\n",
        "    )\n",
        "    return result\n",
        "\n",
        "def handle_user_query(query):\n",
        "    refined_query = refine_query(query)\n",
        "\n",
        "    answer = query_pinecone(refined_query)\n",
        "\n",
        "    return answer\n",
        "\n",
        "def save_embedding(embeddings,PINECONE_API_KEY,index_name):\n",
        "    # Initialize Pinecone with the API key\n",
        "    pc = Pinecone(\n",
        "        api_key=PINECONE_API_KEY\n",
        "    )\n",
        "\n",
        "    # Connect to an existing index\n",
        "    index_name = 'nagp'\n",
        "    index = pc.Index(index_name)\n",
        "\n",
        "    # Store embeddings in Pinecone\n",
        "    vectors = [(str(i), embedding.tolist()) for i, embedding in enumerate(embeddings)]\n",
        "    index.upsert(vectors)\n",
        "    return f\"Embeddings stored in Pinecone index '{index_name}'.\"\n",
        "\n",
        "def refine_query(query):\n",
        "    global query_history\n",
        "\n",
        "    # Construct the prompt with detailed instructions\n",
        "    prompt = (\n",
        "        f\"The user is trying to find specific information online and needs help refining their search query. \"\n",
        "        f\"Here is the original query:\\n\\n\"\n",
        "        f\"Original Query: {query}\\n\\n\"\n",
        "        f\"Please rewrite this query to be more specific, include relevant keywords, and remove any ambiguity. \"\n",
        "        f\"The refined query should be more likely to yield precise and relevant search results.\\n\\n\"\n",
        "        f\"Refined Query:\"\n",
        "    )\n",
        "\n",
        "    # Tokenize the input prompt\n",
        "    inputs_up = tokenizer(prompt, return_tensors='pt')\n",
        "\n",
        "    # Generate the refined query\n",
        "    outputs_up = gpt_model.generate(\n",
        "        inputs_up['input_ids'],\n",
        "        max_length=100,  # Adjust max_length for appropriate response size\n",
        "        temperature=0.3,\n",
        "        do_sample=True,\n",
        "        top_p=0.90,  # Use nucleus sampling for better quality responses\n",
        "        num_return_sequences=1  # Generate only one refined query\n",
        "    )\n",
        "    refined_query_up = tokenizer.decode(outputs_up[0], skip_special_tokens=True)\n",
        "\n",
        "    # Extract the refined query from the model output\n",
        "    refined_query_up = refined_query_up.split(\"Refined Query:\")[1].strip() if \"Refined Query:\" in refined_query_up else refined_query_up.strip()\n",
        "\n",
        "    # Add the original query and its refined version to history\n",
        "    add_to_history(query, refined_query_up)\n",
        "\n",
        "    return refined_query_up\n",
        "\n",
        "def print_matching_chunks(result, text_chunks):\n",
        "    for match in result['matches']:\n",
        "        match_id = int(match['id'])\n",
        "        if match_id < len(text_chunks):\n",
        "            print(f\"ID: {match_id}, Score: {match['score']}, Text Chunk: {text_chunks[match_id]}\")\n"
      ]
    },
    {
      "cell_type": "markdown",
      "metadata": {
        "id": "8i6yYvzqTTn9"
      },
      "source": [
        "### Extract text from PDF"
      ]
    },
    {
      "cell_type": "code",
      "execution_count": 136,
      "metadata": {
        "id": "C-wFx9lXXI0T"
      },
      "outputs": [],
      "source": [
        "import fitz  # PyMuPDF\n",
        "\n",
        "pdf_path = 'Assignment Support Document.pdf'\n",
        "text = extract_text_from_pdf(pdf_path)\n",
        "#print(text)"
      ]
    },
    {
      "cell_type": "markdown",
      "metadata": {
        "id": "isSJjhY9XU0k"
      },
      "source": [
        "### Segment Text into Chunks"
      ]
    },
    {
      "cell_type": "code",
      "execution_count": 137,
      "metadata": {
        "id": "gtPNumLdXZi4"
      },
      "outputs": [],
      "source": [
        "text_chunks = chunk_text_by_sentence(text)"
      ]
    },
    {
      "cell_type": "markdown",
      "metadata": {
        "id": "lsBId0VdXf0E"
      },
      "source": [
        "### Generate Embeddings"
      ]
    },
    {
      "cell_type": "code",
      "execution_count": 19,
      "metadata": {
        "colab": {
          "base_uri": "https://localhost:8080/"
        },
        "id": "rmHEJXwnXkYl",
        "outputId": "09c2f285-bd84-44fe-e6bf-8a5713296750"
      },
      "outputs": [
        {
          "name": "stdout",
          "output_type": "stream",
          "text": [
            "(36, 384)\n"
          ]
        }
      ],
      "source": [
        "from sentence_transformers import SentenceTransformer\n",
        "\n",
        "model = SentenceTransformer('all-MiniLM-L6-v2')\n",
        "embeddings = generate_embeddings(text_chunks)\n",
        "print(embeddings.shape)  # Print the shape of the embeddings"
      ]
    },
    {
      "cell_type": "markdown",
      "metadata": {
        "id": "TLm9s6g3Y-oF"
      },
      "source": [
        "### Store and Retrieve Embeddings"
      ]
    },
    {
      "cell_type": "code",
      "execution_count": 138,
      "metadata": {
        "colab": {
          "base_uri": "https://localhost:8080/"
        },
        "id": "ySMVTcMgZJva",
        "outputId": "354b9e72-b8e9-444b-d884-f4823e20b96f"
      },
      "outputs": [
        {
          "name": "stdout",
          "output_type": "stream",
          "text": [
            "Embeddings stored in Pinecone index 'nagp'.\n"
          ]
        }
      ],
      "source": [
        "import os\n",
        "from pinecone import Pinecone, ServerlessSpec\n",
        "import numpy as np\n",
        "\n",
        "#print(embeddings)\n",
        "# Set your Pinecone API key\n",
        "PINECONE_API_KEY = ''\n",
        "index_name = 'nagp'\n",
        "\n",
        "save_result = save_embedding(embeddings,PINECONE_API_KEY,index_name)\n",
        "print(save_result)\n",
        "\n",
        "# Example query\n",
        "#query_result = query_pinecone(\"Mudra Yojana\", top_k=3, namespace=None)\n",
        "#print(query_result)"
      ]
    },
    {
      "cell_type": "markdown",
      "metadata": {
        "id": "IKZvKhblUWrV"
      },
      "source": [
        "### Integrate GPT model"
      ]
    },
    {
      "cell_type": "code",
      "execution_count": 10,
      "metadata": {
        "id": "_GL5_xTsUYw_"
      },
      "outputs": [],
      "source": [
        "from transformers import GPT2LMHeadModel, GPT2Tokenizer\n",
        "# Load pre-trained GPT-2 model and tokenizer\n",
        "model_name = \"gpt2\"\n",
        "tokenizer = GPT2Tokenizer.from_pretrained(model_name)\n",
        "gpt_model = GPT2LMHeadModel.from_pretrained(model_name)"
      ]
    },
    {
      "cell_type": "markdown",
      "metadata": {
        "id": "3Nw6o9wiyUyW"
      },
      "source": [
        "### Query text"
      ]
    },
    {
      "cell_type": "code",
      "execution_count": 147,
      "metadata": {
        "id": "G9OqilmayTEb"
      },
      "outputs": [],
      "source": [
        "query = \"India\""
      ]
    },
    {
      "cell_type": "markdown",
      "metadata": {
        "id": "po3CqDlIfjNV"
      },
      "source": [
        "### Query the Vector Database and Get refine query to perform search"
      ]
    },
    {
      "cell_type": "code",
      "execution_count": 148,
      "metadata": {
        "colab": {
          "base_uri": "https://localhost:8080/",
          "height": 723
        },
        "id": "AEZsDmb9fk23",
        "outputId": "26958e4c-d960-42d2-a919-fc9e492ed2ab"
      },
      "outputs": [
        {
          "name": "stderr",
          "output_type": "stream",
          "text": [
            "The attention mask and the pad token id were not set. As a consequence, you may observe unexpected behavior. Please pass your input's `attention_mask` to obtain reliable results.\n",
            "Setting `pad_token_id` to `eos_token_id`:50256 for open-end generation.\n"
          ]
        },
        {
          "data": {
            "image/png": "[encoded data removed]",
            "text/plain": [
              "<Figure size 1000x600 with 1 Axes>"
            ]
          },
          "metadata": {},
          "output_type": "display_data"
        },
        {
          "name": "stdout",
          "output_type": "stream",
          "text": [
            "ID: 20, Score: 0.457812607\n",
            "ID: 12, Score: 0.435934812\n",
            "ID: 13, Score: 0.423217297\n",
            "ID: 0, Score: 0.418499321\n",
            "ID: 7, Score: 0.407076478\n",
            "Average Score: 0.428508103\n"
          ]
        }
      ],
      "source": [
        "\n",
        "import matplotlib.pyplot as plt\n",
        "import numpy as np\n",
        "from sklearn.metrics import precision_score, recall_score, f1_score\n",
        "\n",
        "def run_search_query(query):\n",
        "    # Use the query_pinecone function to get results\n",
        "    result = query_pinecone(query)\n",
        "    # Assuming result['matches'] is a list of ScoredVector objects\n",
        "    if 'matches' in result:\n",
        "        return result['matches']  # Return all matches for inspection\n",
        "    else:\n",
        "        return []\n",
        "\n",
        "def analyze_results(matches):\n",
        "    # Extract scores\n",
        "    scores = [match['score'] for match in matches]\n",
        "\n",
        "    # Plot scores\n",
        "    plt.figure(figsize=(10, 6))\n",
        "    plt.plot(scores, marker='o', linestyle='-', color='b')\n",
        "    plt.title('Match Scores')\n",
        "    plt.xlabel('Match Index')\n",
        "    plt.ylabel('Score')\n",
        "    plt.show()\n",
        "\n",
        "    # Print top 5 matches\n",
        "    top_matches = sorted(matches, key=lambda x: x['score'], reverse=True)[:5]\n",
        "    for match in top_matches:\n",
        "        print(f\"ID: {match['id']}, Score: {match['score']}\")\n",
        "\n",
        "    # Calculate average score\n",
        "    average_score = np.mean(scores)\n",
        "    print(f\"Average Score: {average_score}\")\n",
        "\n",
        "refined_query = refine_query(query)\n",
        "matches = run_search_query(refined_query)\n",
        "analyze_results(matches)\n",
        "#result = query_pinecone(refined_query)\n",
        "#print_matching_chunks(result, text_chunks)\n",
        "\n"
      ]
    }
  ],
  "metadata": {
    "colab": {
      "provenance": []
    },
    "kernelspec": {
      "display_name": "Python 3",
      "name": "python3"
    },
    "language_info": {
      "codemirror_mode": {
        "name": "ipython",
        "version": 3
      },
      "file_extension": ".py",
      "mimetype": "text/x-python",
      "name": "python",
      "nbconvert_exporter": "python",
      "pygments_lexer": "ipython3",
      "version": "3.12.3"
    }
  },
  "nbformat": 4,
  "nbformat_minor": 0
}
